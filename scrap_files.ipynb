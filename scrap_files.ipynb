{
 "cells": [
  {
   "cell_type": "code",
   "execution_count": 66,
   "metadata": {},
   "outputs": [
    {
     "name": "stdout",
     "output_type": "stream",
     "text": [
      "pasta já criada\n"
     ]
    }
   ],
   "source": [
    "from selenium import webdriver\n",
    "from selenium.webdriver.common.by import By\n",
    "from selenium.webdriver.support.ui import WebDriverWait\n",
    "from selenium.webdriver.support import expected_conditions as EC\n",
    "import os\n",
    "from time import sleep\n",
    "try:\n",
    "    os.mkdir(\"C:/Files_Sigaa\")\n",
    "except:\n",
    "    print('pasta já criada')\n",
    "options = webdriver.ChromeOptions()\n",
    "options.add_argument(\"download.default_directory=C:\\Files_Sigaa\")\n",
    "driver = webdriver.Chrome(options=options)\n",
    "wait = WebDriverWait(driver, 300)\n",
    "\n",
    "def wait_element(xpath):\n",
    "    element = wait.until(EC.element_to_be_clickable((By.XPATH, xpath)))\n",
    "    return element\n",
    "\n",
    "driver.get('https://sigaa.sistemas.ufg.br/sigaa')\n",
    "element = wait_element('//*[@id=\"turmas-portal\"]/span[2]/a')\n",
    "element.click()"
   ]
  },
  {
   "cell_type": "code",
   "execution_count": 77,
   "metadata": {},
   "outputs": [],
   "source": [
    "materias = len(driver.find_elements(By.XPATH, '//*[@id=\"j_id_jsp_2088818627_2\"]/table/tbody/tr'))\n",
    "for i in range(2,materias):\n",
    "    if len(driver.find_elements(By.XPATH, f'//*[@id=\"j_id_jsp_2088818627_2\"]/table/tbody/tr[{i}]/td[6]/a/img')) > 0:\n",
    "        driver.find_element(By.XPATH, f'//*[@id=\"j_id_jsp_2088818627_2\"]/table/tbody/tr[{i}]/td[6]/a/img').click()\n",
    "        element = wait_element('//*[@id=\"formMenu:j_id_jsp_1448423575_85\"]')\n",
    "        element.click()\n",
    "        element = wait_element('//*[@id=\"formMenu:j_id_jsp_1082464452_85\"]/div[3]/table/tbody/tr/td/a[4]/div')\n",
    "        element.click()\n",
    "        if len(driver.find_elements(By.XPATH, '//*[@id=\"formAva\"]/fieldset/div[2]/a')) > 0:\n",
    "            element = wait_element('//*[@id=\"formAva\"]/fieldset/div[2]/a')\n",
    "            element.click()\n",
    "            element = wait_element('//*[@id=\"formAcoesTurma:botaoPortalDiscente\"]')\n",
    "            element.click()\n",
    "            element = wait_element('//*[@id=\"turmas-portal\"]/span[2]/a')\n",
    "            element.click()\n",
    "            sleep(5)\n",
    "        else:\n",
    "            element = wait_element('//*[@id=\"formAcoesTurma:botaoPortalDiscente\"]')\n",
    "            element.click()\n",
    "            element = wait_element('//*[@id=\"turmas-portal\"]/span[2]/a')\n",
    "            element.click()\n",
    "            sleep(5)\n",
    "\n",
    "    "
   ]
  }
 ],
 "metadata": {
  "interpreter": {
   "hash": "20b29d43a30cd893ae813441d0bac3d1e9c0d42c1f60f838a1d63c51a03d0155"
  },
  "kernelspec": {
   "display_name": "Python 3.9.7 64-bit",
   "language": "python",
   "name": "python3"
  },
  "language_info": {
   "codemirror_mode": {
    "name": "ipython",
    "version": 3
   },
   "file_extension": ".py",
   "mimetype": "text/x-python",
   "name": "python",
   "nbconvert_exporter": "python",
   "pygments_lexer": "ipython3",
   "version": "3.9.7"
  },
  "orig_nbformat": 4
 },
 "nbformat": 4,
 "nbformat_minor": 2
}
